{
  "nbformat": 4,
  "nbformat_minor": 0,
  "metadata": {
    "colab": {
      "provenance": []
    },
    "kernelspec": {
      "name": "python3",
      "display_name": "Python 3"
    },
    "language_info": {
      "name": "python"
    }
  },
  "cells": [
    {
      "cell_type": "code",
      "execution_count": null,
      "metadata": {
        "id": "TJQL_T1M3g6n"
      },
      "outputs": [],
      "source": [
        "from pandas.core.dtypes.cast import astype_dt64_to_dt64tz\n",
        "import pandas as pd\n",
        "import numpy as np\n",
        "from sklearn.datasets import load_iris\n",
        "import random\n",
        "# Load the Iris dataset\n",
        "iris = load_iris()\n",
        "\n",
        "# Create a pandas DataFrame from the dataset\n",
        "df = pd.DataFrame(data= np.c_[iris['data'], iris['target']], columns= iris['feature_names'] + ['target'])\n",
        "df['target'] = df['target'].map({0:'setosa', 1:'versicolor', 2:'virginica'})\n",
        "\n",
        "# print(df[:10])\n",
        "# Split the data into training and testing sets\n",
        "train_data = df.sample(frac=0.7, random_state=random.randint(0,100))\n",
        "test_data = df.drop(train_data.index)\n",
        "\n",
        "grouped = train_data.groupby('target')\n",
        "\n",
        "\n",
        "\n",
        "\n"
      ]
    },
    {
      "cell_type": "code",
      "source": [],
      "metadata": {
        "id": "AxU5VUOf8hMr"
      },
      "execution_count": null,
      "outputs": []
    },
    {
      "cell_type": "code",
      "source": [
        "# Calculate the mean and standard deviation of each feature for each target class\n",
        "means = grouped.mean()\n",
        "stds = grouped.std()\n",
        "print(means)\n",
        "print(stds)"
      ],
      "metadata": {
        "colab": {
          "base_uri": "https://localhost:8080/"
        },
        "id": "xjaTpzGi8hXZ",
        "outputId": "4d1d8792-ef35-40f3-93c9-875c954be04b"
      },
      "execution_count": null,
      "outputs": [
        {
          "output_type": "stream",
          "name": "stdout",
          "text": [
            "            sepal length (cm)  sepal width (cm)  petal length (cm)  \\\n",
            "target                                                               \n",
            "setosa               4.990909          3.378788           1.448485   \n",
            "versicolor           5.930769          2.756410           4.235897   \n",
            "virginica            6.442424          2.900000           5.448485   \n",
            "\n",
            "            petal width (cm)  \n",
            "target                        \n",
            "setosa              0.227273  \n",
            "versicolor          1.307692  \n",
            "virginica           1.990909  \n",
            "            sepal length (cm)  sepal width (cm)  petal length (cm)  \\\n",
            "target                                                               \n",
            "setosa               0.357390          0.377291           0.164167   \n",
            "versicolor           0.541029          0.346254           0.471552   \n",
            "virginica            0.607263          0.278388           0.477704   \n",
            "\n",
            "            petal width (cm)  \n",
            "target                        \n",
            "setosa              0.094448  \n",
            "versicolor          0.197863  \n",
            "virginica           0.287623  \n"
          ]
        }
      ]
    },
    {
      "cell_type": "code",
      "source": [
        "# Define a function to calculate the probability density function\n",
        "def pdf(x, mean, std):\n",
        "    exponent = np.exp(-(np.power(x-mean,2)/(2*np.power(std,2))))\n",
        "    return (1 / (np.sqrt(2*np.pi) * std)) * exponent\n",
        "\n",
        "# Define a function to predict the target class for a single data point\n",
        "def predict(data_point):\n",
        "    # Calculate the prior probability of each target class\n",
        "    priors = {}\n",
        "    for target, group in grouped:\n",
        "        priors[target] = len(group) / len(train_data)\n",
        "    \n",
        "    # Calculate the likelihood of the data point given each target class\n",
        "    likelihoods = {}\n",
        "    for target, group in grouped:\n",
        "        likelihood = 1.0\n",
        "        for feature in iris['feature_names']:\n",
        "            mean = means[feature][target]\n",
        "            std = stds[feature][target]\n",
        "            x = data_point[feature]\n",
        "            likelihood *= pdf(x, mean, std)\n",
        "        likelihoods[target] = likelihood\n",
        "    \n",
        "    # Calculate the posterior probability of each target class given the data point\n",
        "    posteriors = {}\n",
        "    for target in priors:\n",
        "        posteriors[target] = priors[target] * likelihoods[target]\n",
        "    \n",
        "    # Return the target class with the highest posterior probability\n",
        "    return max(posteriors, key=posteriors.get)\n",
        "\n",
        "# Make predictions for each data point in the test set\n",
        "predictions = []\n",
        "for index, row in test_data.iterrows():\n",
        "    predictions.append(predict(row))\n",
        "print(predictions)\n",
        "# Print the accuracy of the classifier\n",
        "correct = 0\n",
        "for i in range(len(predictions)):\n",
        "    if predictions[i] == test_data.iloc[i]['target']:\n",
        "        correct += 1\n",
        "accuracy = correct / len(predictions)\n",
        "print('Accuracy:', accuracy*100)"
      ],
      "metadata": {
        "id": "sJrx4xRo8hZ5",
        "colab": {
          "base_uri": "https://localhost:8080/"
        },
        "outputId": "59e8742d-5dcb-450b-bdea-3fbcec6bb0c4"
      },
      "execution_count": null,
      "outputs": [
        {
          "output_type": "stream",
          "name": "stdout",
          "text": [
            "['setosa', 'setosa', 'setosa', 'setosa', 'setosa', 'setosa', 'setosa', 'setosa', 'setosa', 'setosa', 'setosa', 'setosa', 'setosa', 'setosa', 'setosa', 'setosa', 'setosa', 'versicolor', 'versicolor', 'versicolor', 'versicolor', 'versicolor', 'virginica', 'versicolor', 'versicolor', 'virginica', 'versicolor', 'versicolor', 'virginica', 'virginica', 'virginica', 'virginica', 'virginica', 'virginica', 'virginica', 'virginica', 'virginica', 'virginica', 'virginica', 'virginica', 'virginica', 'virginica', 'virginica', 'virginica', 'virginica']\n",
            "Accuracy: 95.55555555555556\n"
          ]
        }
      ]
    },
    {
      "cell_type": "code",
      "source": [],
      "metadata": {
        "id": "NqREdB_u8hde"
      },
      "execution_count": null,
      "outputs": []
    }
  ]
}